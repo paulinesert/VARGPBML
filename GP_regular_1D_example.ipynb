{
 "cells": [
  {
   "cell_type": "code",
   "execution_count": null,
   "id": "db2a0dea",
   "metadata": {},
   "outputs": [],
   "source": [
    "import numpy as np\n",
    "import pandas as pd\n",
    "\n",
    "from GP_Regular import GP_regression, plot_gp\n",
    "np.random.seed(36)"
   ]
  },
  {
   "cell_type": "code",
   "execution_count": null,
   "id": "1e9537c3",
   "metadata": {},
   "outputs": [],
   "source": [
    "# Load 1D toy example from www.gatsby.ucl.ac.uk/∼snelson/\n",
    "data_train = pd.read_csv(\"1D_train.csv\")\n",
    "data_test = pd.read_csv(\"1D_test.csv\")\n",
    "\n",
    "X_test = data_test['X'].values.reshape(-1 , 1)\n",
    "X_train = data_train['X'].values.reshape(-1 , 1)\n",
    "Y_train = data_train['Y'].values.reshape(-1 , 1)\n",
    "\n",
    "GP = GP_regression()\n",
    "GP.fit(X_train, Y_train, params0=np.array([1.0,1.0,0.5]),noise_estimation=True)\n",
    "\n",
    "print(\"Length: \", GP.theta[0], \", Scale: \", GP.theta[1], \", Noise: \", GP.noise)"
   ]
  },
  {
   "cell_type": "code",
   "execution_count": null,
   "id": "d2c094e9",
   "metadata": {},
   "outputs": [],
   "source": [
    "mu_s, cov_s = GP.predict(X_test, X_train, Y_train, theta=GP.theta, noise=GP.noise)\n",
    "\n",
    "plot_gp(mu_s, cov_s, X_test, X_train=X_train, Y_train=Y_train)"
   ]
  },
  {
   "cell_type": "markdown",
   "id": "3c3ac449",
   "metadata": {},
   "source": [
    "# With different training size"
   ]
  },
  {
   "cell_type": "markdown",
   "id": "cdb8ba0b",
   "metadata": {},
   "source": [
    "### n = 20"
   ]
  },
  {
   "cell_type": "code",
   "execution_count": null,
   "id": "eb47448e",
   "metadata": {},
   "outputs": [],
   "source": [
    "sorted_idx = np.argsort(X_train.flatten())\n",
    "n = X_train.shape[0]\n",
    "X_train_sorted = X_train[sorted_idx]\n",
    "Y_train_sorted = Y_train[sorted_idx]\n",
    "\n",
    "X_train_20 = X_train_sorted[np.arange(1,n,10)]\n",
    "\n",
    "Y_train_20 = Y_train_sorted[np.arange(1,n,10)]\n",
    "\n",
    "GP = GP_regression()\n",
    "GP.fit(X_train_20, Y_train_20, params0=np.array([1.0,1.0,0.3]),noise_estimation=True)"
   ]
  },
  {
   "cell_type": "code",
   "execution_count": null,
   "id": "d90c5a77",
   "metadata": {},
   "outputs": [],
   "source": [
    "mu_s, cov_s = GP.predict(X_test, X_train_20, Y_train_20, theta=GP.theta, noise=GP.noise)\n",
    "\n",
    "plot_gp(mu_s, cov_s, X_test, X_train=X_train_20, Y_train=Y_train_20)"
   ]
  },
  {
   "cell_type": "code",
   "execution_count": null,
   "id": "7d0568b0",
   "metadata": {},
   "outputs": [],
   "source": []
  }
 ],
 "metadata": {
  "kernelspec": {
   "display_name": "bml",
   "language": "python",
   "name": "bml"
  },
  "language_info": {
   "codemirror_mode": {
    "name": "ipython",
    "version": 3
   },
   "file_extension": ".py",
   "mimetype": "text/x-python",
   "name": "python",
   "nbconvert_exporter": "python",
   "pygments_lexer": "ipython3",
   "version": "3.9.10"
  }
 },
 "nbformat": 4,
 "nbformat_minor": 5
}
